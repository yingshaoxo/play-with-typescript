{
 "cells": [
  {
   "cell_type": "code",
   "execution_count": 11,
   "metadata": {},
   "outputs": [],
   "source": [
    "class MyHashSet {\n",
    "    mySet: any\n",
    "    constructor() {\n",
    "        this.mySet = new Set();\n",
    "    }\n",
    "\n",
    "    add(key: number): void {\n",
    "        this.mySet.add(key)\n",
    "    }\n",
    "\n",
    "    remove(key: number): void {\n",
    "        this.mySet.delete(key)\n",
    "    }\n",
    "\n",
    "    contains(key: number): boolean {\n",
    "        return this.mySet.has(key)\n",
    "    }\n",
    "}"
   ]
  },
  {
   "cell_type": "markdown",
   "metadata": {},
   "source": [
    "https://leetcode.com/problems/design-hashset/\n",
    "\n",
    "\n",
    "Runtime: 176 ms, faster than 100.00% of TypeScript online submissions for Design HashSet.\n",
    "Memory Usage: 47.9 MB, less than 100.00% of TypeScript online submissions for Design HashSet.\n",
    "\n",
    "\n",
    "\n",
    "```typescript\n",
    "class MyHashSet {\n",
    "    mySet: any\n",
    "    constructor() {\n",
    "        this.mySet = new Set();\n",
    "    }\n",
    "\n",
    "    add(key: number): void {\n",
    "        this.mySet.add(key)\n",
    "    }\n",
    "\n",
    "    remove(key: number): void {\n",
    "        this.mySet.delete(key)\n",
    "    }\n",
    "\n",
    "    contains(key: number): boolean {\n",
    "        return this.mySet.has(key)\n",
    "    }\n",
    "}\n",
    "```"
   ]
  },
  {
   "cell_type": "code",
   "execution_count": null,
   "metadata": {},
   "outputs": [],
   "source": []
  }
 ],
 "metadata": {
  "kernelspec": {
   "display_name": "TypeScript",
   "language": "typescript",
   "name": "tslab"
  },
  "language_info": {
   "codemirror_mode": {
    "mode": "typescript",
    "name": "javascript",
    "typescript": true
   },
   "file_extension": ".ts",
   "mimetype": "text/typescript",
   "name": "typescript",
   "version": "3.7.2"
  }
 },
 "nbformat": 4,
 "nbformat_minor": 4
}
