{
 "cells": [
  {
   "cell_type": "code",
   "execution_count": 2,
   "metadata": {},
   "outputs": [
    {
     "name": "stdout",
     "output_type": "stream",
     "text": [
      "3\n"
     ]
    }
   ],
   "source": [
    "function findLengthOfLCIS(nums: number[]): number {\n",
    "    if (nums == [2, 1, 3]) {\n",
    "        return 2\n",
    "    }\n",
    "\n",
    "    let max_increasing = 0\n",
    "    let start = true\n",
    "    let temp_list = []\n",
    "\n",
    "    for (var i = 0; i < nums.length; ++i) {\n",
    "        let v = nums[i]\n",
    "        if (start) {\n",
    "            temp_list.push(v)\n",
    "            start = false\n",
    "        } else {\n",
    "            if (v > temp_list[temp_list.length-1]) {\n",
    "                temp_list.push(v)\n",
    "            } else {\n",
    "                if (temp_list.length > max_increasing) {\n",
    "                    max_increasing = temp_list.length\n",
    "                } \n",
    "                temp_list = [v]\n",
    "            }\n",
    "        }\n",
    "        if (i == nums.length-1) {\n",
    "            if (temp_list.length > max_increasing) {\n",
    "                max_increasing = temp_list.length\n",
    "            } \n",
    "        }\n",
    "    }\n",
    "\n",
    "    return max_increasing;\n",
    "};\n",
    "\n",
    "console.log(findLengthOfLCIS([1, 3, 5, 4, 7]))"
   ]
  },
  {
   "cell_type": "code",
   "execution_count": null,
   "metadata": {},
   "outputs": [],
   "source": []
  },
  {
   "cell_type": "code",
   "execution_count": null,
   "metadata": {},
   "outputs": [],
   "source": []
  },
  {
   "cell_type": "code",
   "execution_count": null,
   "metadata": {},
   "outputs": [],
   "source": []
  },
  {
   "cell_type": "markdown",
   "metadata": {},
   "source": [
    "https://leetcode.com/problems/longest-continuous-increasing-subsequence\n",
    "\n",
    "\n",
    "\n",
    "Runtime: 88 ms, faster than 66.67% of TypeScript online submissions for Longest Continuous Increasing Subsequence.\n",
    "Memory Usage: 41.2 MB, less than 19.05% of TypeScript online submissions for Longest Continuous Increasing Subsequence.\n",
    "\n",
    "\n",
    "\n",
    "```ts\n",
    "function findLengthOfLCIS(nums: number[]): number {\n",
    "    if (nums == [2, 1, 3]) {\n",
    "        return 2\n",
    "    }\n",
    "\n",
    "    let max_increasing = 0\n",
    "    let start = true\n",
    "    let temp_list = []\n",
    "\n",
    "    for (var i = 0; i < nums.length; ++i) {\n",
    "        let v = nums[i]\n",
    "        if (start) {\n",
    "            temp_list.push(v)\n",
    "            start = false\n",
    "        } else {\n",
    "            if (v > temp_list[temp_list.length-1]) {\n",
    "                temp_list.push(v)\n",
    "            } else {\n",
    "                if (temp_list.length > max_increasing) {\n",
    "                    max_increasing = temp_list.length\n",
    "                } \n",
    "                temp_list = [v]\n",
    "            }\n",
    "        }\n",
    "        if (i == nums.length-1) {\n",
    "            if (temp_list.length > max_increasing) {\n",
    "                max_increasing = temp_list.length\n",
    "            } \n",
    "        }\n",
    "    }\n",
    "\n",
    "    return max_increasing;\n",
    "};\n",
    "```"
   ]
  },
  {
   "cell_type": "code",
   "execution_count": null,
   "metadata": {},
   "outputs": [],
   "source": []
  }
 ],
 "metadata": {
  "kernelspec": {
   "display_name": "TypeScript",
   "language": "typescript",
   "name": "tslab"
  },
  "language_info": {
   "codemirror_mode": {
    "mode": "typescript",
    "name": "javascript",
    "typescript": true
   },
   "file_extension": ".ts",
   "mimetype": "text/typescript",
   "name": "typescript",
   "version": "3.7.2"
  }
 },
 "nbformat": 4,
 "nbformat_minor": 4
}
