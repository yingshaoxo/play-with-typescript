{
 "cells": [
  {
   "cell_type": "markdown",
   "metadata": {},
   "source": [
    "https://leetcode.com/problems/kth-largest-element-in-a-stream\n",
    "\n",
    "\n",
    "Runtime: 3228 ms, faster than 7.14% of TypeScript online submissions for Kth Largest Element in a Stream.\n",
    "Memory Usage: 53.6 MB, less than 21.43% of TypeScript online submissions for Kth Largest Element in a Stream.\n",
    "\n",
    "\n",
    "\n",
    "```ts\n",
    "class KthLargest {\n",
    "    stream: Array<number>;\n",
    "    k: number\n",
    "    \n",
    "    constructor(k: number, nums: number[]) {\n",
    "        this.stream = nums\n",
    "        this.k = k\n",
    "    }\n",
    "\n",
    "    add(val: number): number {\n",
    "        this.stream.push(val)\n",
    "        this.stream.sort((a,b)=>{return a-b})\n",
    "        return this.stream[this.stream.length-this.k]\n",
    "    }\n",
    "}\n",
    "```"
   ]
  },
  {
   "cell_type": "code",
   "execution_count": null,
   "metadata": {},
   "outputs": [],
   "source": []
  }
 ],
 "metadata": {
  "kernelspec": {
   "display_name": "TypeScript",
   "language": "typescript",
   "name": "tslab"
  },
  "language_info": {
   "codemirror_mode": {
    "mode": "typescript",
    "name": "javascript",
    "typescript": true
   },
   "file_extension": ".ts",
   "mimetype": "text/typescript",
   "name": "typescript",
   "version": "3.7.2"
  }
 },
 "nbformat": 4,
 "nbformat_minor": 4
}
