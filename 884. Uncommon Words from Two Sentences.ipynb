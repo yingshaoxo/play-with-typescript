{
 "cells": [
  {
   "cell_type": "code",
   "execution_count": 85,
   "metadata": {},
   "outputs": [],
   "source": [
    "function uncommonFromSentences(A: string, B: string): string[] {\n",
    "    let a  = A.split(\" \"); \n",
    "    let b  = B.split(\" \"); \n",
    "    let c = new Map();\n",
    "    let r: Array<string> = []\n",
    "    a.forEach((v) => {\n",
    "        if (v in c) {\n",
    "            c[v] += 1\n",
    "        } else {\n",
    "            c[v] = 1\n",
    "        }\n",
    "    })\n",
    "    b.forEach((v) => {\n",
    "        if (v in c) {\n",
    "            c[v] += 1\n",
    "        } else {\n",
    "            c[v] = 1\n",
    "        }\n",
    "    })\n",
    "    console.log(c)\n",
    "    for (let [k, v] of c) {\n",
    "        console.log(c)\n",
    "        if (v == 1) {\n",
    "            r = [...r, k]\n",
    "        }\n",
    "    } \n",
    "    return r\n",
    "};"
   ]
  },
  {
   "cell_type": "code",
   "execution_count": 86,
   "metadata": {},
   "outputs": [
    {
     "name": "stdout",
     "output_type": "stream",
     "text": [
      "Map { a: 2, b: 2, c: 2, d: 1 }\n",
      "[]\n"
     ]
    }
   ],
   "source": [
    "uncommonFromSentences(\"a b c\", \"a b c d\")"
   ]
  },
  {
   "cell_type": "code",
   "execution_count": null,
   "metadata": {},
   "outputs": [],
   "source": []
  },
  {
   "cell_type": "code",
   "execution_count": 84,
   "metadata": {},
   "outputs": [
    {
     "name": "stdout",
     "output_type": "stream",
     "text": [
      "a\n"
     ]
    }
   ],
   "source": [
    "let c = new Map()\n",
    "c.set(\"a\" ,2)\n",
    "for (let [k, v] of c) {\n",
    "    console.log(k)\n",
    "} "
   ]
  },
  {
   "cell_type": "code",
   "execution_count": null,
   "metadata": {},
   "outputs": [],
   "source": []
  },
  {
   "cell_type": "code",
   "execution_count": null,
   "metadata": {},
   "outputs": [],
   "source": []
  },
  {
   "cell_type": "code",
   "execution_count": 89,
   "metadata": {},
   "outputs": [],
   "source": [
    "function uncommonFromSentences(A: string, B: string): string[] {\n",
    "    let a  = A.split(\" \"); \n",
    "    let b  = B.split(\" \"); \n",
    "    let c = new Map();\n",
    "    let r: Array<string> = []\n",
    "    a.forEach((v) => {\n",
    "        if (c.has(v)) {\n",
    "            c.set(v, c.get(v) + 1)\n",
    "        } else {\n",
    "            c.set(v, 1)\n",
    "        }\n",
    "    })\n",
    "    b.forEach((v) => {\n",
    "        if (c.has(v)) {\n",
    "            c.set(v, c.get(v) + 1)\n",
    "        } else {\n",
    "            c.set(v, 1)\n",
    "        }\n",
    "    })\n",
    "    console.log(c)\n",
    "    for (let [k, v] of c) {\n",
    "        if (v == 1) {\n",
    "            r = [...r, k]\n",
    "        }\n",
    "    } \n",
    "    return r\n",
    "};"
   ]
  },
  {
   "cell_type": "code",
   "execution_count": 90,
   "metadata": {},
   "outputs": [
    {
     "name": "stdout",
     "output_type": "stream",
     "text": [
      "Map { 'a' => 2, 'b' => 2, 'c' => 2, 'd' => 1 }\n",
      "[ 'd' ]\n"
     ]
    }
   ],
   "source": [
    "uncommonFromSentences(\"a b c\", \"a b c d\")"
   ]
  },
  {
   "cell_type": "code",
   "execution_count": null,
   "metadata": {},
   "outputs": [],
   "source": []
  },
  {
   "cell_type": "code",
   "execution_count": null,
   "metadata": {},
   "outputs": [],
   "source": []
  },
  {
   "cell_type": "code",
   "execution_count": null,
   "metadata": {},
   "outputs": [],
   "source": []
  },
  {
   "cell_type": "markdown",
   "metadata": {},
   "source": [
    "https://leetcode.com/problems/uncommon-words-from-two-sentences\n",
    "\n",
    "\n",
    "Runtime: 84 ms, faster than 63.64% of TypeScript online submissions for Uncommon Words from Two Sentences.\n",
    "Memory Usage: 40.2 MB, less than 72.73% of TypeScript online submissions for Uncommon Words from Two Sentences.\n",
    "\n",
    "\n",
    "```ts\n",
    "function uncommonFromSentences(A: string, B: string): string[] {\n",
    "    let a  = A.split(\" \"); \n",
    "    let b  = B.split(\" \"); \n",
    "    let c = new Map();\n",
    "    let r: Array<string> = []\n",
    "    a.forEach((v) => {\n",
    "        if (c.has(v)) {\n",
    "            c.set(v, c.get(v) + 1)\n",
    "        } else {\n",
    "            c.set(v, 1)\n",
    "        }\n",
    "    })\n",
    "    b.forEach((v) => {\n",
    "        if (c.has(v)) {\n",
    "            c.set(v, c.get(v) + 1)\n",
    "        } else {\n",
    "            c.set(v, 1)\n",
    "        }\n",
    "    })\n",
    "    for (let [k, v] of c) {\n",
    "        if (v == 1) {\n",
    "            r = [...r, k]\n",
    "        }\n",
    "    } \n",
    "    return r\n",
    "};\n",
    "```\n",
    "\n",
    "\n",
    "> Stupid javascript could only use `set` and `get` to manipulate the hashmap."
   ]
  },
  {
   "cell_type": "code",
   "execution_count": null,
   "metadata": {},
   "outputs": [],
   "source": []
  }
 ],
 "metadata": {
  "kernelspec": {
   "display_name": "TypeScript",
   "language": "typescript",
   "name": "tslab"
  },
  "language_info": {
   "codemirror_mode": {
    "mode": "typescript",
    "name": "javascript",
    "typescript": true
   },
   "file_extension": ".ts",
   "mimetype": "text/typescript",
   "name": "typescript",
   "version": "3.7.2"
  }
 },
 "nbformat": 4,
 "nbformat_minor": 4
}
