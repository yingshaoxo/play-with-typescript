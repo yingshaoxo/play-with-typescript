{
 "cells": [
  {
   "cell_type": "code",
   "execution_count": 16,
   "metadata": {},
   "outputs": [],
   "source": [
    "function rotateString(A: string, B: string): boolean {\n",
    "    if (A==\"\" && B==\"\") {\n",
    "        return true\n",
    "    }\n",
    "    if (A.length != B.length) {\n",
    "        return false\n",
    "    }\n",
    "    \n",
    "    for (let i=0; i < A.length; i++) {\n",
    "        A = A.slice(1,A.length) + A.slice(0,1)\n",
    "        console.log(A)\n",
    "        if (A == B) {\n",
    "            return true\n",
    "        }\n",
    "    }\n",
    "    return false;\n",
    "};"
   ]
  },
  {
   "cell_type": "code",
   "execution_count": 17,
   "metadata": {},
   "outputs": [
    {
     "name": "stdout",
     "output_type": "stream",
     "text": [
      "bca\n",
      "cab\n",
      "abc\n",
      "true\n"
     ]
    }
   ],
   "source": [
    "rotateString(\"abc\", \"abc\")"
   ]
  },
  {
   "cell_type": "markdown",
   "metadata": {},
   "source": []
  },
  {
   "cell_type": "code",
   "execution_count": null,
   "metadata": {},
   "outputs": [],
   "source": []
  },
  {
   "cell_type": "markdown",
   "metadata": {},
   "source": [
    "https://leetcode.com/problems/rotate-string\n",
    "\n",
    "\n",
    "Runtime: 84 ms, faster than 50.00% of TypeScript online submissions for Rotate String.\n",
    "Memory Usage: 40.4 MB, less than 25.00% of TypeScript online submissions for Rotate String.\n",
    "\n",
    "\n",
    "\n",
    "```ts\n",
    "function rotateString(A: string, B: string): boolean {\n",
    "    if (A==\"\" && B==\"\") {\n",
    "        return true\n",
    "    }\n",
    "    if (A.length != B.length) {\n",
    "        return false\n",
    "    }\n",
    "    \n",
    "    for (let i=0; i < A.length; i++) {\n",
    "        A = A.slice(1,A.length) + A.slice(0,1)\n",
    "        //console.log(A)\n",
    "        if (A == B) {\n",
    "            return true\n",
    "        }\n",
    "    }\n",
    "    return false;\n",
    "};\n",
    "```\n",
    "\n",
    "\n",
    "Spent 7 minutes\n",
    "\n",
    "1 Shoot"
   ]
  },
  {
   "cell_type": "code",
   "execution_count": null,
   "metadata": {},
   "outputs": [],
   "source": []
  }
 ],
 "metadata": {
  "kernelspec": {
   "display_name": "TypeScript",
   "language": "typescript",
   "name": "tslab"
  },
  "language_info": {
   "codemirror_mode": {
    "mode": "typescript",
    "name": "javascript",
    "typescript": true
   },
   "file_extension": ".ts",
   "mimetype": "text/typescript",
   "name": "typescript",
   "version": "3.7.2"
  }
 },
 "nbformat": 4,
 "nbformat_minor": 4
}
